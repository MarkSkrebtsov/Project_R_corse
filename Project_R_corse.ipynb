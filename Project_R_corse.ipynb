{
  "nbformat": 4,
  "nbformat_minor": 0,
  "metadata": {
    "colab": {
      "provenance": [],
      "collapsed_sections": [
        "7Qvr2mkglNvR",
        "8NdrVK9H7fLq",
        "s7rPNgha7kqE",
        "aBUACU8SlBmH",
        "yJlYKSPpu7Ut"
      ],
      "authorship_tag": "ABX9TyPKnCh8CluKFUivUnm9XWh6"
    },
    "kernelspec": {
      "name": "python3",
      "display_name": "Python 3"
    },
    "language_info": {
      "name": "python"
    }
  },
  "cells": [
    {
      "cell_type": "markdown",
      "source": [
        "#Импортирование библиотек"
      ],
      "metadata": {
        "id": "7Qvr2mkglNvR"
      }
    },
    {
      "cell_type": "code",
      "execution_count": 1,
      "metadata": {
        "id": "KQ70neZH36n1"
      },
      "outputs": [],
      "source": [
        "#импортируем необходимые библиотеки\n",
        "\n",
        "import pandas as pd\n",
        "import numpy as np\n",
        "from sklearn.model_selection import train_test_split, GridSearchCV\n",
        "from sklearn.ensemble import RandomForestClassifier\n",
        "from sklearn.metrics import roc_curve, roc_auc_score, auc\n",
        "from sklearn.metrics import precision_score, recall_score"
      ]
    },
    {
      "cell_type": "markdown",
      "source": [
        "# Загрузка датасетов"
      ],
      "metadata": {
        "id": "8NdrVK9H7fLq"
      }
    },
    {
      "cell_type": "code",
      "source": [
        "#тренировочные датасеты\n",
        "events_data_train = pd.read_csv('https://stepik.org/media/attachments/course/4852/event_data_train.zip')\n",
        "submission_data_train = pd.read_csv('https://stepik.org/media/attachments/course/4852/submissions_data_train.zip')\n",
        "\n",
        "#тестовые датасеты\n",
        "events_data_test = pd.read_csv('https://stepik.org/media/attachments/course/4852/events_data_test.csv')\n",
        "submission_data_test = pd.read_csv('https://stepik.org/media/attachments/course/4852/submission_data_test.csv')\n",
        "\n",
        "#events_data\n",
        "\n",
        "#step_id - id стэпа\n",
        "#user_id - анонимизированный id юзера\n",
        "#timestamp - время наступления события в формате unix date\n",
        "#action - событие, возможные значения: \n",
        "#discovered - пользователь перешел на стэп\n",
        "#viewed - просмотр шага,\n",
        "#started_attempt - начало попытки решить шаг, ранее нужно было явно нажать на кнопку - начать решение, перед тем как приступить к решению практического шага\n",
        "#passed - удачное решение практического шага\n",
        "\n",
        "#submission_data\n",
        "\n",
        "#step_id - id стэпа\n",
        "#timestamp - время отправки решения в формате unix date\n",
        "#submission_status - статус решения\n",
        "#user_id - анонимизированный id юзера"
      ],
      "metadata": {
        "id": "ygcJOqPH5Z5w"
      },
      "execution_count": 2,
      "outputs": []
    },
    {
      "cell_type": "markdown",
      "source": [
        "#Обработка данных"
      ],
      "metadata": {
        "id": "s7rPNgha7kqE"
      }
    },
    {
      "cell_type": "code",
      "source": [
        "def to_date_and_day(data: pd.core.frame.DataFrame):\n",
        "  \n",
        "  #добавление к датафрэйму столбцы с датой и днём\n",
        "\n",
        "  data['date'] = pd.to_datetime(data.timestamp, units = 's')\n",
        "  data['day'] = data['date'].dt.date\n",
        "\n",
        "  return data"
      ],
      "metadata": {
        "id": "AWJb3zSP7n7P"
      },
      "execution_count": 3,
      "outputs": []
    },
    {
      "cell_type": "code",
      "source": [
        "def time_filter(data, count_of_days=2):\n",
        "\n",
        "  #фильтрация данных с певрого момента, до порогового(count_of_days)\n",
        "\n",
        "  #определяет ограничение по секудная пребывания\n",
        "  time_threshold = count_of_days*24*60*60\n",
        "\n",
        "  #определяет первый момент появления на курсе для каждого юреза\n",
        "  first_user_time = data.groupby('user_id').agg({'timestamp': 'min'}).reset_index().rename(columns={'timestamp': 'first_user_time'})\n",
        "  data = data.merge(first_user_time, on='user_id', how = 'outer')\n",
        "\n",
        "  #перевод id и времени в удобнуб для фильтрации форму\n",
        "  data['user_time'] = data.user_id.map(str) + '_' + data.timestamp.map(str)\n",
        "  data['user_time_threshold'] = data.user_id.map(str) + '_' + (data.first_user_time + time_threshold).map(str)\n",
        "\n",
        "  #фильтрация посредством сравнения строк id и времени каждого действия с пороговым значением для каждого юзера\n",
        "  data_time_filtered = data.query('user_time < user_time_threshold')\n",
        "\n",
        "  #удаление промежуточных столбцов сравнения\n",
        "  data_time_filtered = data_time_filtered.drop(['user_time', 'user_time_threshold', 'first_user_time'], axis=1)\n",
        "\n",
        "  #возвращает отфильтрованный датафрэйм по пороговому значению дней пребывания на курсе(count_of_days)\n",
        "  return data_time_filtered"
      ],
      "metadata": {
        "id": "0zJWupQK-YxA"
      },
      "execution_count": 4,
      "outputs": []
    },
    {
      "cell_type": "code",
      "source": [
        "def main_features(events_data: pd.core.frame.DataFrame, submission_data: pd.core.frame.DataFrame):\n",
        "\n",
        "  #определение основных фичей для дальнейшего анализа\n",
        "  #действия - из таблицы events_data\n",
        "  #правильность выполнения задания - из таблицы submission_data\n",
        "\n",
        "  #определение колличества определенных действий, совершённых каждым юзеров\n",
        "  users_event_data = pd.pivot_table(data=events_data, \n",
        "                                    index='user_id', \n",
        "                                    columns='action', \n",
        "                                    values='step_id', \n",
        "                                    aggfunc='count', \n",
        "                                    fill_value=0) \\\n",
        "                                    .reset_index() \\\n",
        "                                    .rename_axis('', axis=1)\n",
        "  \n",
        "  #определение колличества правильных и неправильных решения для каждого юзера\n",
        "  users_submission_data = pd.pivot_table(data=submission_data, \n",
        "                                         index='user_id',\n",
        "                                         columns='submission_status', \n",
        "                                         values='step_id', \n",
        "                                         aggfunc='count', \n",
        "                                         fill_value=0) \\\n",
        "                                         .reset_index() \\\n",
        "                                         .rename_axis('', axis=1)\n",
        "\n",
        "  #объединение таблиц с полученными фичами\n",
        "  users_data = pd.merge(users_event_data, users_submission_data, on='user_id', how='outer').fillna(0)\n",
        "\n",
        "  return users_data"
      ],
      "metadata": {
        "id": "__hnGPZoLEiT"
      },
      "execution_count": 5,
      "outputs": []
    },
    {
      "cell_type": "code",
      "source": [
        "def steps_tried(submissions_data: pd.core.frame.DataFrame):\n",
        "\n",
        "  #определяет общее количество попоток юзера в выполнении заданий\n",
        "\n",
        "  steps_tried = submissions_data.groupby('user_id').step_id.nunique() \\\n",
        "                                                          .to_frame() \\\n",
        "                                                          .reset_index() \\\n",
        "                                                          .rename(columns = {'step_id': 'steps_tried'})\n",
        "\n",
        "  return steps_tried                                                       \n",
        "  "
      ],
      "metadata": {
        "id": "x9qsngdZW8IQ"
      },
      "execution_count": 6,
      "outputs": []
    },
    {
      "cell_type": "code",
      "source": [
        "def correct_ratio(data):\n",
        "  \n",
        "  #определяет соотношения правильных решений, ко всем\n",
        "\n",
        "  data['correct_ratio'] = data['correct']/(data['correct'] + data['wrong'])\n",
        "\n",
        "  return data\n"
      ],
      "metadata": {
        "id": "8sAdJoD1W_HP"
      },
      "execution_count": 7,
      "outputs": []
    },
    {
      "cell_type": "code",
      "source": [
        "def target(submission_data: pd.core.frame.DataFrame, treshold=40):\n",
        "\n",
        "  #определение целевой переменной\n",
        "  #если юзер сделал больше или равное treshold заданий, то считается, что он закончит курс\n",
        "\n",
        "  #определим колличество верно-решенных задач для каждого юзера\n",
        "  users_correct = submission_data.query('submission_status == \"correct\"') \\\n",
        "                                                      .groupby('user_id') \\\n",
        "                                                      .agg({'step_id': 'count'}) \\\n",
        "                                                      .reset_index() \\\n",
        "                                                      .rename({'step_id': 'correct_count'}, axis = 1)\n",
        "\n",
        "  #сравним с пороговым значением и внесем результат в итоговую таблицу                                                    \n",
        "  users_correct['passed_course'] = (users_correct.correct_count >= treshold).astype(int)\n",
        "  users_correct = users_correct.drop('correct_count', axis=1)\n",
        "\n",
        "  return users_correct"
      ],
      "metadata": {
        "id": "WZG9m7_pN8gF"
      },
      "execution_count": 8,
      "outputs": []
    },
    {
      "cell_type": "markdown",
      "source": [
        "Формирование датафрэймов"
      ],
      "metadata": {
        "id": "bnqPCZvWcOhW"
      }
    },
    {
      "cell_type": "code",
      "source": [
        "def create_train_dataframes(events_data: pd.core.frame.DataFrame, submission_data: pd.core.frame.DataFrame):\n",
        "\n",
        "  #создает итоговые датафрэймы для построения моделей\n",
        "\n",
        "  #фильтрует по времени начальные данные\n",
        "  events_filtered = time_filter(events_data)\n",
        "  submission_filtered = time_filter(submission_data)\n",
        "\n",
        "  #создает датафрэйм(из отфильтрованных) с основными фичами\n",
        "  main_features_data = main_features(events_filtered, submission_filtered)\n",
        "\n",
        "  #вычисление соотношения правильных ответов ко всем данным\n",
        "  correct_ratio_data = correct_ratio(main_features_data)\n",
        "\n",
        "  #вычисление общего числа попыток\n",
        "  steps_tried_data = steps_tried(submission_filtered)\n",
        "\n",
        "  #определение целевой переменной\n",
        "  users_target_feature = target(submission_data)\n",
        "\n",
        "  #все фичи опрделены, теперь соединяем полученные DataFrames\n",
        "  result = main_features_data.merge(correct_ratio_data, how='outer')\n",
        "  result = result.merge(steps_tried_data, how='outer')\n",
        "  result = result.merge(users_target_feature, how='outer').fillna(0)\n",
        "  #в переменной result находится итоговый DataFrame со всеми вычесленными фичами и целевой переменной\n",
        "\n",
        "  #Разделим result на фичи и целевую переменную\n",
        "  y = result[['passed_course']]\n",
        "  X = result.drop('passed_course', axis=1)\n",
        "\n",
        "  return X, y"
      ],
      "metadata": {
        "id": "aVTmBn5icK0F"
      },
      "execution_count": 9,
      "outputs": []
    },
    {
      "cell_type": "code",
      "source": [
        "def create_test_X_dataframe(events_data: pd.core.frame.DataFrame, submission_data: pd.core.frame.DataFrame):\n",
        "\n",
        "  #создает итоговые датафрэймы для построения моделей\n",
        "\n",
        "  #фильтрует по времени начальные данные\n",
        "  events_filtered = time_filter(events_data)\n",
        "  submission_filtered = time_filter(submission_data)\n",
        "\n",
        "  #создает датафрэйм(из отфильтрованных) с основными фичами\n",
        "  main_features_data = main_features(events_filtered, submission_filtered)\n",
        "\n",
        "  #вычисление соотношения правильных ответов ко всем данным\n",
        "  correct_ratio_data = correct_ratio(main_features_data)\n",
        "\n",
        "  #вычисление общего числа попыток\n",
        "  steps_tried_data = steps_tried(submission_filtered)\n",
        "\n",
        "  #определение целевой переменной\n",
        "  users_target_feature = target(submission_data)\n",
        "\n",
        "  #все фичи опрделены, теперь соединяем полученные DataFrames\n",
        "  result = main_features_data.merge(correct_ratio_data, how='outer')\n",
        "  test_data = result.merge(steps_tried_data, how='outer').fillna(0)\n",
        "  #в переменной result находится итоговый DataFrame со всеми вычесленными фичами\n",
        "\n",
        "\n",
        "  return test_data\n",
        "  "
      ],
      "metadata": {
        "id": "Dd9ddAGnjpAB"
      },
      "execution_count": 10,
      "outputs": []
    },
    {
      "cell_type": "markdown",
      "source": [
        "# Обучение моделей"
      ],
      "metadata": {
        "id": "aBUACU8SlBmH"
      }
    },
    {
      "cell_type": "code",
      "source": [
        "def GridRandomForest(X, y, test_data):\n",
        "  \n",
        "  #разделение на тренировочную и тестовую выборки\n",
        "  X_train, X_test, y_train, y_test = train_test_split(X, y, test_size = 0.3, random_state=42)\n",
        "\n",
        "  #создание и обучени модели на тренировочных данных\n",
        "  clf = RandomForestClassifier()\n",
        "  params = {'max_depth': [6], 'n_estimators': [30]}\n",
        "  grid_cros_val = GridSearchCV(clf, param_grid=params, cv=6, n_jobs=-1)\n",
        "  grid_cros_val.fit(X_train, y_train)\n",
        "\n",
        "  #вывод наилучшей модели\n",
        "  best_estimator = grid_cros_val.best_estimator_\n",
        "  print(f'Набор лучших параметров модели:\\n {grid_cros_val.best_params_}')\n",
        "\n",
        "  #предсказание вероятностей отнесения к классам\n",
        "  y_pred_prob = best_estimator.predict_proba(X_test)\n",
        "\n",
        "  #непосредственное отнесение к классам в зависимости от порогового значения вероятности\n",
        "  y_pred = np.where(y_pred_prob[:, 1] >= 0.5, 1, 0)\n",
        "\n",
        "  #вычисление основных метрик классификации\n",
        "  accuracy = best_estimator.score(X_test, y_test)\n",
        "  roc_score = roc_auc_score(y_test, y_pred_prob[:, 1])\n",
        "\n",
        "  print(f'Accuracy на тестовых данных: {accuracy}',\n",
        "        f'Roc_score на тестовых данных: {roc_score}', sep='\\n')\n",
        "  #предсказание для итогового теста\n",
        "  y_pred_prob = best_estimator.predict_proba(test_data)\n",
        "  result = test_data['user_id'].to_frame()\n",
        "  result['is_gone'] = y_pred_prob[:, 1]\n",
        "  result[['user_id', 'is_gone']].to_csv(f'my_predict_{roc_score:.5f}.csv', index=False)\n",
        "  print(f'Результы записанны в файл my_predict_{roc_score:.5f}.csv')\n",
        "  \n",
        "\n",
        "\n",
        "  "
      ],
      "metadata": {
        "id": "9Lthf338jsBU"
      },
      "execution_count": 11,
      "outputs": []
    },
    {
      "cell_type": "markdown",
      "source": [
        "#Анализ модели"
      ],
      "metadata": {
        "id": "yJlYKSPpu7Ut"
      }
    },
    {
      "cell_type": "code",
      "source": [
        "X, y = create_train_dataframes(events_data_train, submission_data_train)"
      ],
      "metadata": {
        "id": "T29zJSIt0dL7"
      },
      "execution_count": 12,
      "outputs": []
    },
    {
      "cell_type": "code",
      "source": [
        "test_data = create_test_X_dataframe(events_data_test, submission_data_test)"
      ],
      "metadata": {
        "id": "a6WyHtzw4TPB"
      },
      "execution_count": 13,
      "outputs": []
    },
    {
      "cell_type": "code",
      "source": [
        "GridRandomForest(X, y, test_data)"
      ],
      "metadata": {
        "id": "sx9uKWrp8ChR",
        "colab": {
          "base_uri": "https://localhost:8080/"
        },
        "outputId": "465afd20-d3fd-4885-ea08-951a6523efa1"
      },
      "execution_count": 14,
      "outputs": [
        {
          "output_type": "stream",
          "name": "stderr",
          "text": [
            "/usr/local/lib/python3.9/dist-packages/sklearn/model_selection/_search.py:909: DataConversionWarning: A column-vector y was passed when a 1d array was expected. Please change the shape of y to (n_samples,), for example using ravel().\n",
            "  self.best_estimator_.fit(X, y, **fit_params)\n"
          ]
        },
        {
          "output_type": "stream",
          "name": "stdout",
          "text": [
            "Набор лучших параметров модели:\n",
            " {'max_depth': 6, 'n_estimators': 30}\n",
            "Accuracy на тестовых данных: 0.9026165309305146\n",
            "Roc_score на тестовых данных: 0.8819096903665962\n",
            "Результы записанны в файл my_predict_0.88191.csv\n"
          ]
        }
      ]
    },
    {
      "cell_type": "code",
      "source": [],
      "metadata": {
        "id": "eZSTVB-SCjUT"
      },
      "execution_count": null,
      "outputs": []
    }
  ]
}